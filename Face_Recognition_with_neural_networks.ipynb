{
 "cells": [
  {
   "cell_type": "code",
   "execution_count": 2,
   "metadata": {},
   "outputs": [],
   "source": [
    "import tensorflow as tf\n",
    "import numpy as np\n",
    "import facenet\n",
    "import os\n",
    "import math\n",
    "import pickle\n",
    "from sklearn.svm import SVC\n",
    "import sys\n",
    "import face_recognition\n",
    "from tensorflow.python.training import training\n",
    "import re\n",
    "from tensorflow.python.platform import gfile\n",
    "import cv2\n",
    "import time\n",
    "import pickle\n",
    "import matplotlib.pyplot as plt\n",
    "import pandas as pd\n",
    "from datetime import datetime\n",
    "from skimage import transform"
   ]
  },
  {
   "cell_type": "markdown",
   "metadata": {},
   "source": [
    "# Feature Extraction funtions"
   ]
  },
  {
   "cell_type": "code",
   "execution_count": 3,
   "metadata": {},
   "outputs": [],
   "source": [
    "def get_image_paths_and_labels(dataset):\n",
    "    image_paths_flat = []\n",
    "    labels_flat = []\n",
    "    for i in range(len(dataset)):\n",
    "        image_paths_flat += dataset[i].image_paths\n",
    "        labels_flat += [i] * len(dataset[i].image_paths)\n",
    "    return image_paths_flat, labels_flat\n",
    "\n",
    "\n",
    "def prewhiten(x):\n",
    "    mean = np.mean(x)\n",
    "    std = np.std(x)\n",
    "    std_adj = np.maximum(std, 1.0/np.sqrt(x.size))\n",
    "    y = np.multiply(np.subtract(x, mean), 1/std_adj)\n",
    "    return y  \n",
    "\n",
    "def crop(image, image_size):\n",
    "    if image.shape[1]>image_size:\n",
    "        sz1 = int(image.shape[1]//2)\n",
    "        sz2 = int(image_size//2)\n",
    "        (h, v) = (0,0)\n",
    "        image = image[(sz1-sz2+v):(sz1+sz2+v),(sz1-sz2+h):(sz1+sz2+h),:]\n",
    "    return image\n",
    "  \n",
    "def flip(image):\n",
    "    image = np.fliplr(image)\n",
    "    return image\n",
    "\n",
    "def to_rgb(img):\n",
    "    w, h = img.shape\n",
    "    ret = np.empty((w, h, 3), dtype=np.uint8)\n",
    "    ret[:, :, 0] = ret[:, :, 1] = ret[:, :, 2] = img\n",
    "    return ret\n",
    "  \n",
    "def load_data(image_paths, image_size):\n",
    "    nrof_samples = len(image_paths)\n",
    "    images = np.zeros((nrof_samples, image_size, image_size, 3))\n",
    "    for i in range(nrof_samples):\n",
    "        img = cv2.imread(image_paths[i])\n",
    "        if img.ndim == 2:\n",
    "            img = to_rgb(img)\n",
    "        img = prewhiten(img)\n",
    "        img = crop(img, image_size)\n",
    "        img = flip(img)\n",
    "        images[i,:,:,:] = img\n",
    "    return images"
   ]
  },
  {
   "cell_type": "markdown",
   "metadata": {},
   "source": [
    "# Load models, Get Dataset Functions"
   ]
  },
  {
   "cell_type": "code",
   "execution_count": 4,
   "metadata": {},
   "outputs": [],
   "source": [
    "class ImageClass():\n",
    "    def __init__(self, name, image_paths):\n",
    "        self.name = name\n",
    "        self.image_paths = image_paths\n",
    "  \n",
    "    def __str__(self):\n",
    "        return self.name + ', ' + str(len(self.image_paths)) + ' images'\n",
    "  \n",
    "    def __len__(self):\n",
    "        return len(self.image_paths)\n",
    "\n",
    "def get_dataset(paths, has_class_directories=True):\n",
    "    dataset = []\n",
    "    for path in paths.split(':'):\n",
    "        path_exp = os.path.expanduser(path)\n",
    "        classes = os.listdir(path_exp)\n",
    "        classes.sort()\n",
    "        nrof_classes = len(classes)\n",
    "        for i in range(nrof_classes):\n",
    "            class_name = classes[i]\n",
    "            facedir = os.path.join(path_exp, class_name)\n",
    "            image_paths = get_image_paths(facedir)\n",
    "            dataset.append(ImageClass(class_name, image_paths))\n",
    "  \n",
    "    return dataset\n",
    "\n",
    "def get_image_paths(facedir):\n",
    "    image_paths = []\n",
    "    if os.path.isdir(facedir):\n",
    "        images = os.listdir(facedir)\n",
    "        image_paths = [os.path.join(facedir,img) for img in images]\n",
    "    return image_paths\n",
    "  \n",
    "def load_model(model):\n",
    "    model_exp = os.path.expanduser(model)\n",
    "    print('Model filename: %s' % model_exp)\n",
    "    with gfile.FastGFile(model_exp,'rb') as f:\n",
    "        graph_def = tf.GraphDef()\n",
    "        graph_def.ParseFromString(f.read())\n",
    "        tf.import_graph_def(graph_def, name='')\n",
    "    "
   ]
  },
  {
   "cell_type": "code",
   "execution_count": null,
   "metadata": {},
   "outputs": [],
   "source": []
  },
  {
   "cell_type": "markdown",
   "metadata": {},
   "source": [
    "# Training"
   ]
  },
  {
   "cell_type": "code",
   "execution_count": 18,
   "metadata": {},
   "outputs": [],
   "source": [
    "class training:\n",
    "    def __init__(self, datadir, modeldir,classifier_filename):\n",
    "        self.datadir = datadir\n",
    "        self.modeldir = modeldir\n",
    "        self.classifier_filename = classifier_filename\n",
    "\n",
    "    def main_train(self):\n",
    "\n",
    "        with tf.Session() as sess:\n",
    "            img_data = get_dataset(self.datadir)\n",
    "            path, label = get_image_paths_and_labels(img_data)\n",
    "            print('Classes: %d' % len(img_data))\n",
    "            print('Images: %d' % len(path))\n",
    "\n",
    "            load_model(self.modeldir)\n",
    "            images_placeholder = tf.get_default_graph().get_tensor_by_name(\"input:0\")\n",
    "            embeddings = tf.get_default_graph().get_tensor_by_name(\"embeddings:0\")\n",
    "            phase_train_placeholder = tf.get_default_graph().get_tensor_by_name(\"phase_train:0\")\n",
    "            embedding_size = embeddings.get_shape()[1]\n",
    "            \n",
    "            print('Extracting features of images for model')\n",
    "            batch_size = 1000\n",
    "            image_size = 160\n",
    "            nrof_images = len(path)\n",
    "            nrof_batches_per_epoch = int(math.ceil(1.0 * nrof_images / batch_size))\n",
    "            emb_array = np.zeros((nrof_images, embedding_size))\n",
    "            for i in range(nrof_batches_per_epoch):\n",
    "                start_index = i * batch_size\n",
    "                end_index = min((i + 1) * batch_size, nrof_images)\n",
    "                paths_batch = path[start_index:end_index]\n",
    "                images = load_data(paths_batch, image_size)\n",
    "                feed_dict = {images_placeholder: images, phase_train_placeholder: False}\n",
    "                emb_array[start_index:end_index, :] = sess.run(embeddings, feed_dict=feed_dict)\n",
    "\n",
    "            classifier_file_name = os.path.expanduser(self.classifier_filename)\n",
    "\n",
    "            print('Training Started')\n",
    "            model = SVC(kernel='linear', probability=True)\n",
    "            model.fit(emb_array, label)\n",
    "\n",
    "            class_names = [cls.name.replace('_', ' ') for cls in img_data]\n",
    "\n",
    "            with open(classifier_file_name, 'wb') as outfile:\n",
    "                pickle.dump((model, class_names), outfile)\n",
    "            return classifier_file_name\n"
   ]
  },
  {
   "cell_type": "code",
   "execution_count": null,
   "metadata": {},
   "outputs": [],
   "source": []
  },
  {
   "cell_type": "code",
   "execution_count": 19,
   "metadata": {
    "scrolled": true
   },
   "outputs": [
    {
     "name": "stdout",
     "output_type": "stream",
     "text": [
      "Training Start\n",
      "Classes: 11\n",
      "Images: 802\n",
      "Model filename: ./Models/FaceRecognitionWeights.pb\n",
      "Extracting features of images for model\n",
      "Training Started\n",
      "Saved classifier model to file \"classifier.pkl\"\n",
      "All Done\n"
     ]
    }
   ],
   "source": [
    "datadir = './Students/Train'\n",
    "modeldir = './Models/FaceRecognitionWeights.pb'\n",
    "classifier_filename = 'classifier.pkl'\n",
    "print (\"Training Start\")\n",
    "obj=training(datadir,modeldir,classifier_filename)\n",
    "get_file=obj.main_train()\n",
    "print('Saved classifier model to file \"%s\"' % get_file)\n",
    "print(\"All Done\")\n"
   ]
  },
  {
   "cell_type": "code",
   "execution_count": null,
   "metadata": {},
   "outputs": [],
   "source": []
  },
  {
   "cell_type": "markdown",
   "metadata": {},
   "source": [
    "#  Testing"
   ]
  },
  {
   "cell_type": "code",
   "execution_count": 11,
   "metadata": {},
   "outputs": [
    {
     "name": "stdout",
     "output_type": "stream",
     "text": [
      "Loading model...\n",
      "Model filename: ./Models/FaceRecognitionWeights.pb\n",
      "Start Recognition!\n",
      "396 44 440\n",
      "Done!!!!\n"
     ]
    }
   ],
   "source": [
    "modeldir = './Models/FaceRecognitionWeights.pb'\n",
    "classifier_filename = 'classifier.pkl'\n",
    "test_dir=\"./Students/Test\"\n",
    "correct_classify=0\n",
    "wrong_classify=0\n",
    "total_images=0\n",
    "with tf.Graph().as_default():\n",
    "    sess = tf.Session()\n",
    "    with sess.as_default():\n",
    "        \n",
    "        image_size = 182\n",
    "        input_image_size = 160\n",
    "        \n",
    "        RegdNo = os.listdir(test_dir)\n",
    "        RegdNo.sort()\n",
    "\n",
    "        print('Loading model...')\n",
    "        load_model(modeldir)\n",
    "\n",
    "        images_placeholder = tf.get_default_graph().get_tensor_by_name(\"input:0\")\n",
    "        embeddings = tf.get_default_graph().get_tensor_by_name(\"embeddings:0\")\n",
    "        phase_train_placeholder = tf.get_default_graph().get_tensor_by_name(\"phase_train:0\")\n",
    "        embedding_size = embeddings.get_shape()[1]\n",
    "        emb_array = np.zeros((1, embedding_size))\n",
    "\n",
    "        classifier_filename_exp = os.path.expanduser(classifier_filename)\n",
    "        with open(classifier_filename_exp, 'rb') as infile:\n",
    "            (model, class_names) = pickle.load(infile)\n",
    "        c = 0\n",
    "        print('Start Recognition!')\n",
    "        \n",
    "        for classes in os.listdir(test_dir):\n",
    "            for img in os.listdir(os.path.join(test_dir,classes)):\n",
    "                img_path=os.path.join(test_dir,os.path.join(classes,img))\n",
    "\n",
    "                frame = cv2.imread(img_path)\n",
    "                \n",
    "                cropped = []\n",
    "                scaled = []\n",
    "                scaled_reshape = []\n",
    "\n",
    "                cropped=frame\n",
    "                cropped = flip(cropped)\n",
    "                scaled= transform.resize(cropped, (image_size, image_size))\n",
    "                scaled = cv2.resize(scaled, (input_image_size,input_image_size), interpolation=cv2.INTER_CUBIC)\n",
    "                scaled = prewhiten(scaled)\n",
    "                scaled_reshape=scaled.reshape(-1,input_image_size,input_image_size,3)\n",
    "                feed_dict = {images_placeholder: scaled_reshape, phase_train_placeholder: False}\n",
    "                emb_array[0, :] = sess.run(embeddings, feed_dict=feed_dict)\n",
    "                predictions = model.predict_proba(emb_array)\n",
    "                best_class_indices = np.argmax(predictions, axis=1)\n",
    "                best_class_probabilities = predictions[np.arange(len(best_class_indices)), best_class_indices]\n",
    "                \n",
    "                if RegdNo[best_class_indices[0]] == classes:\n",
    "                    correct_classify+=1\n",
    "                else:\n",
    "                    wrong_classify+=1\n",
    "                total_images+=1\n",
    "                    \n",
    "    print(correct_classify,wrong_classify,total_images)\n",
    "                    \n",
    "print(\"Done!!!!\")"
   ]
  },
  {
   "cell_type": "code",
   "execution_count": 20,
   "metadata": {},
   "outputs": [
    {
     "data": {
      "text/plain": [
       "0.9"
      ]
     },
     "execution_count": 20,
     "metadata": {},
     "output_type": "execute_result"
    }
   ],
   "source": [
    "accuracy=correct_classify/total_images\n",
    "accuracy"
   ]
  },
  {
   "cell_type": "code",
   "execution_count": null,
   "metadata": {},
   "outputs": [],
   "source": []
  },
  {
   "cell_type": "code",
   "execution_count": null,
   "metadata": {},
   "outputs": [],
   "source": []
  },
  {
   "cell_type": "code",
   "execution_count": 22,
   "metadata": {},
   "outputs": [
    {
     "name": "stdout",
     "output_type": "stream",
     "text": [
      "Loading feature extraction model\n",
      "Model filename: ./Models/FaceRecognitionWeights.pb\n",
      "Start Recognition!\n",
      "Face Detected: 10\n"
     ]
    },
    {
     "data": {
      "image/png": "[encoded data removed]",
      "text/plain": [
       "<Figure size 432x288 with 1 Axes>"
      ]
     },
     "metadata": {},
     "output_type": "display_data"
    },
    {
     "name": "stdout",
     "output_type": "stream",
     "text": [
      "y16cs828\n"
     ]
    },
    {
     "data": {
      "image/png": "[encoded data removed]",
      "text/plain": [
       "<Figure size 432x288 with 1 Axes>"
      ]
     },
     "metadata": {},
     "output_type": "display_data"
    },
    {
     "name": "stdout",
     "output_type": "stream",
     "text": [
      "y16cs919\n"
     ]
    },
    {
     "data": {
      "image/png": "[encoded data removed]",
      "text/plain": [
       "<Figure size 432x288 with 1 Axes>"
      ]
     },
     "metadata": {},
     "output_type": "display_data"
    },
    {
     "name": "stdout",
     "output_type": "stream",
     "text": [
      "y16cs851\n"
     ]
    },
    {
     "data": {
      "image/png": "[encoded data removed]",
      "text/plain": [
       "<Figure size 432x288 with 1 Axes>"
      ]
     },
     "metadata": {},
     "output_type": "display_data"
    },
    {
     "name": "stdout",
     "output_type": "stream",
     "text": [
      "y16cs849\n"
     ]
    },
    {
     "data": {
      "image/png": "[encoded data removed]",
      "text/plain": [
       "<Figure size 432x288 with 1 Axes>"
      ]
     },
     "metadata": {},
     "output_type": "display_data"
    },
    {
     "name": "stdout",
     "output_type": "stream",
     "text": [
      "y16cs863\n"
     ]
    },
    {
     "data": {
      "image/png": "[encoded data removed]",
      "text/plain": [
       "<Figure size 432x288 with 1 Axes>"
      ]
     },
     "metadata": {},
     "output_type": "display_data"
    },
    {
     "name": "stdout",
     "output_type": "stream",
     "text": [
      "y16cs868\n"
     ]
    },
    {
     "data": {
      "image/png": "[encoded data removed]",
      "text/plain": [
       "<Figure size 432x288 with 1 Axes>"
      ]
     },
     "metadata": {},
     "output_type": "display_data"
    },
    {
     "name": "stdout",
     "output_type": "stream",
     "text": [
      "y16cs896\n"
     ]
    },
    {
     "data": {
      "image/png": "[encoded data removed]",
      "text/plain": [
       "<Figure size 432x288 with 1 Axes>"
      ]
     },
     "metadata": {},
     "output_type": "display_data"
    },
    {
     "name": "stdout",
     "output_type": "stream",
     "text": [
      "y16cs920\n"
     ]
    },
    {
     "data": {
      "image/png": "[encoded data removed]",
      "text/plain": [
       "<Figure size 432x288 with 1 Axes>"
      ]
     },
     "metadata": {},
     "output_type": "display_data"
    },
    {
     "name": "stdout",
     "output_type": "stream",
     "text": [
      "y16cs849\n"
     ]
    },
    {
     "data": {
      "image/png": "[encoded data removed]",
      "text/plain": [
       "<Figure size 432x288 with 1 Axes>"
      ]
     },
     "metadata": {},
     "output_type": "display_data"
    },
    {
     "name": "stdout",
     "output_type": "stream",
     "text": [
      "y16cs907\n",
      "Done!!!!\n"
     ]
    }
   ],
   "source": [
    "img_path='Images/abc1.jpg'\n",
    "modeldir = './Models/FaceRecognitionWeights.pb'\n",
    "classifier_filename = 'classifier.pkl'\n",
    "train_img=\"./Students/Train\"\n",
    "students=[]\n",
    "with tf.Graph().as_default():\n",
    "    sess = tf.Session()\n",
    "    with sess.as_default():\n",
    "        \n",
    "        image_size = 182\n",
    "        input_image_size = 160\n",
    "        \n",
    "        RegdNo = os.listdir(train_img)\n",
    "        RegdNo.sort()\n",
    "\n",
    "        print('Loading feature extraction model')\n",
    "        load_model(modeldir)\n",
    "\n",
    "        images_placeholder = tf.get_default_graph().get_tensor_by_name(\"input:0\")\n",
    "        embeddings = tf.get_default_graph().get_tensor_by_name(\"embeddings:0\")\n",
    "        phase_train_placeholder = tf.get_default_graph().get_tensor_by_name(\"phase_train:0\")\n",
    "        embedding_size = embeddings.get_shape()[1]\n",
    "\n",
    "\n",
    "        classifier_filename_exp = os.path.expanduser(classifier_filename)\n",
    "        with open(classifier_filename_exp, 'rb') as infile:\n",
    "            (model, class_names) = pickle.load(infile)\n",
    "        c = 0\n",
    "        print('Start Recognition!')\n",
    "        \n",
    "        frame = cv2.imread(img_path)\n",
    "        \n",
    "        '''scale_percent=30\n",
    "        width = int(frame.shape[1] * scale_percent / 100)\n",
    "        height = int(frame.shape[0] * scale_percent / 100)\n",
    "        dsize = (width, height)\n",
    "        frame=cv2.resize(frame,dsize)'''\n",
    "\n",
    "        find_results = []\n",
    "        bounding_boxes = face_recognition.face_locations(frame)\n",
    "        nrof_faces = len(bounding_boxes)\n",
    "        det=bounding_boxes\n",
    "        print('Face Detected: %d' % nrof_faces)\n",
    "\n",
    "        if nrof_faces > 0:\n",
    "            cropped = []\n",
    "            scaled = []\n",
    "            scaled_reshape = []\n",
    "            bb = np.zeros((nrof_faces,4), dtype=np.int32)\n",
    "\n",
    "            for i in range(nrof_faces):\n",
    "                emb_array = np.zeros((1, embedding_size))\n",
    "\n",
    "                bb[i][0] = det[i][0] #top\n",
    "                bb[i][1] = det[i][1] #right\n",
    "                bb[i][2] = det[i][2] #bottom\n",
    "                bb[i][3] = det[i][3] #left\n",
    "\n",
    "                cropped.append(frame[bb[i][0]:bb[i][2], bb[i][3]:bb[i][1], :])\n",
    "                cropped[i] = flip(cropped[i])\n",
    "                scaled.append(transform.resize(cropped[i], (image_size, image_size)))\n",
    "                scaled[i] = cv2.resize(scaled[i], (input_image_size,input_image_size), interpolation=cv2.INTER_CUBIC)\n",
    "                scaled[i] = prewhiten(scaled[i])\n",
    "                scaled_reshape.append(scaled[i].reshape(-1,input_image_size,input_image_size,3))\n",
    "                feed_dict = {images_placeholder: scaled_reshape[i], phase_train_placeholder: False}\n",
    "                emb_array[0, :] = sess.run(embeddings, feed_dict=feed_dict)\n",
    "                predictions = model.predict_proba(emb_array)\n",
    "                best_class_indices = np.argmax(predictions, axis=1)\n",
    "                best_class_probabilities = predictions[np.arange(len(best_class_indices)), best_class_indices]\n",
    "                cv2.rectangle(frame, (bb[i][3], bb[i][0]), (bb[i][1], bb[i][2]), (0, 255, 0), 2)\n",
    "                face=frame[bb[i][0]:bb[i][2], bb[i][3]:bb[i][1]]\n",
    "                plt.imshow(face[:,:,::-1])\n",
    "                plt.show()\n",
    "                text_x = bb[i][3]\n",
    "                text_y = bb[i][2] + 20\n",
    "                for reg in RegdNo:\n",
    "                    if RegdNo[best_class_indices[0]] == reg:\n",
    "                        result_names = RegdNo[best_class_indices[0]]\n",
    "                        cv2.putText(frame, result_names, (text_x, text_y), cv2.FONT_HERSHEY_COMPLEX_SMALL,1, (0, 0, 255))\n",
    "                        print(result_names)\n",
    "                        students.append(result_names)\n",
    "        else:\n",
    "            print('No faces in photo')\n",
    "    \n",
    "    cv2.imshow('Image', frame)\n",
    "\n",
    "    if cv2.waitKey(1000000) & 0xFF == ord('q'):\n",
    "        cv2.destroyAllWindows()\n",
    "cv2.destroyAllWindows()\n",
    "print(\"Done!!!!\")"
   ]
  },
  {
   "cell_type": "code",
   "execution_count": 14,
   "metadata": {},
   "outputs": [
    {
     "data": {
      "text/plain": [
       "{'y16cs828',\n",
       " 'y16cs832',\n",
       " 'y16cs851',\n",
       " 'y16cs863',\n",
       " 'y16cs868',\n",
       " 'y16cs907',\n",
       " 'y16cs919',\n",
       " 'y16cs920'}"
      ]
     },
     "execution_count": 14,
     "metadata": {},
     "output_type": "execute_result"
    }
   ],
   "source": [
    "students=set(students)\n",
    "students"
   ]
  },
  {
   "cell_type": "code",
   "execution_count": null,
   "metadata": {},
   "outputs": [],
   "source": []
  },
  {
   "cell_type": "markdown",
   "metadata": {},
   "source": [
    "# Upload attendance in excel file"
   ]
  },
  {
   "cell_type": "code",
   "execution_count": 23,
   "metadata": {},
   "outputs": [
    {
     "data": {
      "text/html": [
       "<div>\n",
       "<style scoped>\n",
       "    .dataframe tbody tr th:only-of-type {\n",
       "        vertical-align: middle;\n",
       "    }\n",
       "\n",
       "    .dataframe tbody tr th {\n",
       "        vertical-align: top;\n",
       "    }\n",
       "\n",
       "    .dataframe thead th {\n",
       "        text-align: right;\n",
       "    }\n",
       "</style>\n",
       "<table border=\"1\" class=\"dataframe\">\n",
       "  <thead>\n",
       "    <tr style=\"text-align: right;\">\n",
       "      <th></th>\n",
       "      <th>2020-07-18</th>\n",
       "      <th>2020-07-19</th>\n",
       "    </tr>\n",
       "    <tr>\n",
       "      <th>RegdNo</th>\n",
       "      <th></th>\n",
       "      <th></th>\n",
       "    </tr>\n",
       "  </thead>\n",
       "  <tbody>\n",
       "    <tr>\n",
       "      <th>y16cs828</th>\n",
       "      <td>Present</td>\n",
       "      <td>Present</td>\n",
       "    </tr>\n",
       "    <tr>\n",
       "      <th>y16cs829</th>\n",
       "      <td>Absent</td>\n",
       "      <td>Absent</td>\n",
       "    </tr>\n",
       "    <tr>\n",
       "      <th>y16cs830</th>\n",
       "      <td>Absent</td>\n",
       "      <td>Absent</td>\n",
       "    </tr>\n",
       "    <tr>\n",
       "      <th>y16cs831</th>\n",
       "      <td>Absent</td>\n",
       "      <td>Absent</td>\n",
       "    </tr>\n",
       "    <tr>\n",
       "      <th>y16cs832</th>\n",
       "      <td>Present</td>\n",
       "      <td>Absent</td>\n",
       "    </tr>\n",
       "    <tr>\n",
       "      <th>y16cs833</th>\n",
       "      <td>Absent</td>\n",
       "      <td>Absent</td>\n",
       "    </tr>\n",
       "    <tr>\n",
       "      <th>y16cs834</th>\n",
       "      <td>Absent</td>\n",
       "      <td>Absent</td>\n",
       "    </tr>\n",
       "    <tr>\n",
       "      <th>y16cs835</th>\n",
       "      <td>Absent</td>\n",
       "      <td>Absent</td>\n",
       "    </tr>\n",
       "    <tr>\n",
       "      <th>y16cs836</th>\n",
       "      <td>Absent</td>\n",
       "      <td>Absent</td>\n",
       "    </tr>\n",
       "    <tr>\n",
       "      <th>y16cs837</th>\n",
       "      <td>Absent</td>\n",
       "      <td>Absent</td>\n",
       "    </tr>\n",
       "    <tr>\n",
       "      <th>y16cs838</th>\n",
       "      <td>Absent</td>\n",
       "      <td>Absent</td>\n",
       "    </tr>\n",
       "    <tr>\n",
       "      <th>y16cs839</th>\n",
       "      <td>Absent</td>\n",
       "      <td>Absent</td>\n",
       "    </tr>\n",
       "    <tr>\n",
       "      <th>y16cs840</th>\n",
       "      <td>Absent</td>\n",
       "      <td>Absent</td>\n",
       "    </tr>\n",
       "    <tr>\n",
       "      <th>y16cs841</th>\n",
       "      <td>Absent</td>\n",
       "      <td>Absent</td>\n",
       "    </tr>\n",
       "    <tr>\n",
       "      <th>y16cs842</th>\n",
       "      <td>Absent</td>\n",
       "      <td>Absent</td>\n",
       "    </tr>\n",
       "    <tr>\n",
       "      <th>y16cs843</th>\n",
       "      <td>Absent</td>\n",
       "      <td>Absent</td>\n",
       "    </tr>\n",
       "    <tr>\n",
       "      <th>y16cs844</th>\n",
       "      <td>Absent</td>\n",
       "      <td>Absent</td>\n",
       "    </tr>\n",
       "    <tr>\n",
       "      <th>y16cs845</th>\n",
       "      <td>Absent</td>\n",
       "      <td>Absent</td>\n",
       "    </tr>\n",
       "    <tr>\n",
       "      <th>y16cs846</th>\n",
       "      <td>Absent</td>\n",
       "      <td>Absent</td>\n",
       "    </tr>\n",
       "    <tr>\n",
       "      <th>y16cs847</th>\n",
       "      <td>Absent</td>\n",
       "      <td>Absent</td>\n",
       "    </tr>\n",
       "    <tr>\n",
       "      <th>y16cs848</th>\n",
       "      <td>Absent</td>\n",
       "      <td>Absent</td>\n",
       "    </tr>\n",
       "    <tr>\n",
       "      <th>y16cs849</th>\n",
       "      <td>Present</td>\n",
       "      <td>Present</td>\n",
       "    </tr>\n",
       "    <tr>\n",
       "      <th>y16cs850</th>\n",
       "      <td>Absent</td>\n",
       "      <td>Absent</td>\n",
       "    </tr>\n",
       "    <tr>\n",
       "      <th>y16cs851</th>\n",
       "      <td>Present</td>\n",
       "      <td>Present</td>\n",
       "    </tr>\n",
       "    <tr>\n",
       "      <th>y16cs852</th>\n",
       "      <td>Absent</td>\n",
       "      <td>Absent</td>\n",
       "    </tr>\n",
       "    <tr>\n",
       "      <th>y16cs853</th>\n",
       "      <td>Absent</td>\n",
       "      <td>Absent</td>\n",
       "    </tr>\n",
       "    <tr>\n",
       "      <th>y16cs854</th>\n",
       "      <td>Absent</td>\n",
       "      <td>Absent</td>\n",
       "    </tr>\n",
       "    <tr>\n",
       "      <th>y16cs855</th>\n",
       "      <td>Absent</td>\n",
       "      <td>Absent</td>\n",
       "    </tr>\n",
       "    <tr>\n",
       "      <th>y16cs856</th>\n",
       "      <td>Absent</td>\n",
       "      <td>Absent</td>\n",
       "    </tr>\n",
       "    <tr>\n",
       "      <th>y16cs857</th>\n",
       "      <td>Absent</td>\n",
       "      <td>Absent</td>\n",
       "    </tr>\n",
       "    <tr>\n",
       "      <th>y16cs858</th>\n",
       "      <td>Absent</td>\n",
       "      <td>Absent</td>\n",
       "    </tr>\n",
       "    <tr>\n",
       "      <th>y16cs859</th>\n",
       "      <td>Absent</td>\n",
       "      <td>Absent</td>\n",
       "    </tr>\n",
       "    <tr>\n",
       "      <th>y16cs860</th>\n",
       "      <td>Absent</td>\n",
       "      <td>Absent</td>\n",
       "    </tr>\n",
       "    <tr>\n",
       "      <th>y16cs861</th>\n",
       "      <td>Absent</td>\n",
       "      <td>Absent</td>\n",
       "    </tr>\n",
       "    <tr>\n",
       "      <th>y16cs862</th>\n",
       "      <td>Absent</td>\n",
       "      <td>Absent</td>\n",
       "    </tr>\n",
       "    <tr>\n",
       "      <th>y16cs863</th>\n",
       "      <td>Present</td>\n",
       "      <td>Present</td>\n",
       "    </tr>\n",
       "    <tr>\n",
       "      <th>y16cs864</th>\n",
       "      <td>Absent</td>\n",
       "      <td>Absent</td>\n",
       "    </tr>\n",
       "    <tr>\n",
       "      <th>y16cs865</th>\n",
       "      <td>Absent</td>\n",
       "      <td>Absent</td>\n",
       "    </tr>\n",
       "    <tr>\n",
       "      <th>y16cs866</th>\n",
       "      <td>Absent</td>\n",
       "      <td>Absent</td>\n",
       "    </tr>\n",
       "    <tr>\n",
       "      <th>y16cs867</th>\n",
       "      <td>Absent</td>\n",
       "      <td>Absent</td>\n",
       "    </tr>\n",
       "    <tr>\n",
       "      <th>y16cs868</th>\n",
       "      <td>Present</td>\n",
       "      <td>Present</td>\n",
       "    </tr>\n",
       "  </tbody>\n",
       "</table>\n",
       "</div>"
      ],
      "text/plain": [
       "         2020-07-18 2020-07-19\n",
       "RegdNo                        \n",
       "y16cs828    Present    Present\n",
       "y16cs829     Absent     Absent\n",
       "y16cs830     Absent     Absent\n",
       "y16cs831     Absent     Absent\n",
       "y16cs832    Present     Absent\n",
       "y16cs833     Absent     Absent\n",
       "y16cs834     Absent     Absent\n",
       "y16cs835     Absent     Absent\n",
       "y16cs836     Absent     Absent\n",
       "y16cs837     Absent     Absent\n",
       "y16cs838     Absent     Absent\n",
       "y16cs839     Absent     Absent\n",
       "y16cs840     Absent     Absent\n",
       "y16cs841     Absent     Absent\n",
       "y16cs842     Absent     Absent\n",
       "y16cs843     Absent     Absent\n",
       "y16cs844     Absent     Absent\n",
       "y16cs845     Absent     Absent\n",
       "y16cs846     Absent     Absent\n",
       "y16cs847     Absent     Absent\n",
       "y16cs848     Absent     Absent\n",
       "y16cs849    Present    Present\n",
       "y16cs850     Absent     Absent\n",
       "y16cs851    Present    Present\n",
       "y16cs852     Absent     Absent\n",
       "y16cs853     Absent     Absent\n",
       "y16cs854     Absent     Absent\n",
       "y16cs855     Absent     Absent\n",
       "y16cs856     Absent     Absent\n",
       "y16cs857     Absent     Absent\n",
       "y16cs858     Absent     Absent\n",
       "y16cs859     Absent     Absent\n",
       "y16cs860     Absent     Absent\n",
       "y16cs861     Absent     Absent\n",
       "y16cs862     Absent     Absent\n",
       "y16cs863    Present    Present\n",
       "y16cs864     Absent     Absent\n",
       "y16cs865     Absent     Absent\n",
       "y16cs866     Absent     Absent\n",
       "y16cs867     Absent     Absent\n",
       "y16cs868    Present    Present"
      ]
     },
     "execution_count": 23,
     "metadata": {},
     "output_type": "execute_result"
    }
   ],
   "source": [
    "attendance=pd.read_excel('attendance.xlsx')\n",
    "today=str(datetime.now())[:10]\n",
    "attendance=attendance.set_index('RegdNo')\n",
    "attendance[today]=['Absent']*180\n",
    "for i in students:\n",
    "    attendance.loc[i,today]='Present'\n",
    "attendance.to_excel('attendance.xlsx')\n",
    "attendance.iloc[27:68]"
   ]
  },
  {
   "cell_type": "code",
   "execution_count": null,
   "metadata": {},
   "outputs": [],
   "source": []
  },
  {
   "cell_type": "code",
   "execution_count": null,
   "metadata": {},
   "outputs": [],
   "source": []
  },
  {
   "cell_type": "code",
   "execution_count": null,
   "metadata": {},
   "outputs": [],
   "source": []
  },
  {
   "cell_type": "code",
   "execution_count": null,
   "metadata": {},
   "outputs": [],
   "source": []
  }
 ],
 "metadata": {
  "kernelspec": {
   "display_name": "Python 3",
   "language": "python",
   "name": "python3"
  },
  "language_info": {
   "codemirror_mode": {
    "name": "ipython",
    "version": 3
   },
   "file_extension": ".py",
   "mimetype": "text/x-python",
   "name": "python",
   "nbconvert_exporter": "python",
   "pygments_lexer": "ipython3",
   "version": "3.6.5"
  }
 },
 "nbformat": 4,
 "nbformat_minor": 2
}
